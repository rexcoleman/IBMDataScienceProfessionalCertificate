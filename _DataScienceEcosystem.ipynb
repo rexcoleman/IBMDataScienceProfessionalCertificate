{
 "cells": [
  {
   "cell_type": "markdown",
   "id": "f3cd627f-06f3-4605-9c8b-608115c378d4",
   "metadata": {},
   "source": [
    "# Datascience Tools and Ecosystem"
   ]
  },
  {
   "cell_type": "markdown",
   "id": "a0c3a54a-9a4b-451d-adcc-1da76fc7c447",
   "metadata": {},
   "source": [
    "In this notebook, Data Science Tools and Ecosystem are summarized."
   ]
  },
  {
   "cell_type": "markdown",
   "id": "9d129b08-53b7-4802-9b96-2143e5a5640e",
   "metadata": {},
   "source": [
    "**Objectives:**\n",
    "* List popular languages for Data Science\n",
    "* List popular libraries for Data Science\n",
    "* List popular development environments for Data Science"
   ]
  },
  {
   "cell_type": "markdown",
   "id": "4eaeeab9-16c1-4c68-9e6b-e089c5febc30",
   "metadata": {},
   "source": [
    "Some of the popular languages that Data Scientists use are:\n",
    "1. Python\n",
    "2. R\n",
    "3. SQL"
   ]
  },
  {
   "cell_type": "markdown",
   "id": "f5560256-01e0-4b6f-b7e9-feb97ef5d180",
   "metadata": {},
   "source": [
    "Some of the commonly used libraries used by Data Scientists include:\n",
    "1. Pandas\n",
    "2. NumPy\n",
    "3. Matplotlib"
   ]
  },
  {
   "cell_type": "markdown",
   "id": "b5ca17b5-31b2-4816-8245-0aa8cf87d50c",
   "metadata": {},
   "source": [
    "| Data Science Tools | \n",
    "| ------------------ |\n",
    "| TensorFlow |\n",
    "| RStudio |\n",
    "| Jupyter |\n"
   ]
  },
  {
   "cell_type": "markdown",
   "id": "0e003dee-b886-46ed-b69f-26a0adc0206e",
   "metadata": {},
   "source": [
    "### Below are a few examples of evaluating arithmetic expressions in Python\n"
   ]
  },
  {
   "cell_type": "code",
   "execution_count": 7,
   "id": "023c2a0d-772d-4528-b250-d4f1d4d96e60",
   "metadata": {},
   "outputs": [
    {
     "data": {
      "text/plain": [
       "17"
      ]
     },
     "execution_count": 7,
     "metadata": {},
     "output_type": "execute_result"
    }
   ],
   "source": [
    "# This a simple arithmetic expression to mutiply then add integers\n",
    "(3*4)+5"
   ]
  },
  {
   "cell_type": "code",
   "execution_count": 13,
   "id": "16958332-825b-4c3e-ae2a-b507cff646cd",
   "metadata": {},
   "outputs": [
    {
     "data": {
      "text/plain": [
       "3.3333333333333335"
      ]
     },
     "execution_count": 13,
     "metadata": {},
     "output_type": "execute_result"
    }
   ],
   "source": [
    "# This will convert 200 minutes to hours by diving by 60\n",
    "200 / 60"
   ]
  },
  {
   "cell_type": "code",
   "execution_count": null,
   "id": "f1b0f9ce-ef99-4a64-8bee-d0de17052de0",
   "metadata": {},
   "outputs": [],
   "source": []
  },
  {
   "cell_type": "markdown",
   "id": "2129d9c9-c284-4b69-8a0f-7ced8af0ed9d",
   "metadata": {},
   "source": [
    "## Author\n",
    "Rex Coleman"
   ]
  }
 ],
 "metadata": {
  "kernelspec": {
   "display_name": "anaconda-panel-2023.05-py310",
   "language": "python",
   "name": "conda-env-anaconda-panel-2023.05-py310-py"
  },
  "language_info": {
   "codemirror_mode": {
    "name": "ipython",
    "version": 3
   },
   "file_extension": ".py",
   "mimetype": "text/x-python",
   "name": "python",
   "nbconvert_exporter": "python",
   "pygments_lexer": "ipython3",
   "version": "3.11.5"
  }
 },
 "nbformat": 4,
 "nbformat_minor": 5
}
